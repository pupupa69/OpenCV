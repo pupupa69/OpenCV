{
 "cells": [
  {
   "cell_type": "code",
   "execution_count": null,
   "metadata": {},
   "outputs": [],
   "source": [
    "import cv2 as cv\n",
    "import numpy as np\n",
    "import matplotlib.pyplot as plt\n",
    "%matplotlib inline\n",
    "from IPython.display import Image"
   ]
  },
  {
   "cell_type": "code",
   "execution_count": null,
   "metadata": {},
   "outputs": [],
   "source": [
    "room = cv.imread(\"data/room.png\", 1)\n",
    "\n",
    "plt.imshow(room[:, :, ::-1])"
   ]
  },
  {
   "cell_type": "code",
   "execution_count": null,
   "metadata": {},
   "outputs": [],
   "source": [
    "room_annotated = room.copy()\n",
    "\n",
    "cv.line(room_annotated, (800, 400), (1250, 400), (50,0,255), 5, cv.LINE_AA)\n",
    "cv.line(room_annotated, (800, 400), (900, 300), (50,0,255), 5, cv.LINE_AA)\n",
    "cv.line(room_annotated, (800, 400), (900, 500), (50,0,255), 5, cv.LINE_AA)\n",
    "\n",
    "plt.imshow(room_annotated[:,:,::-1])"
   ]
  },
  {
   "cell_type": "code",
   "execution_count": null,
   "metadata": {},
   "outputs": [],
   "source": [
    "cv.circle(room_annotated, (530, 360), 70, (0,0,255), 5, cv.LINE_AA)\n",
    "cv.circle(room_annotated, (530, 360), 50, (0,0,255), 5, cv.LINE_AA)\n",
    "\n",
    "plt.imshow(room_annotated[:,:,::-1])"
   ]
  },
  {
   "cell_type": "code",
   "execution_count": null,
   "metadata": {},
   "outputs": [],
   "source": [
    "cv.rectangle(room_annotated, (280,110), (775,610), (255,0,255), 5, cv.LINE_AA)\n",
    "cv.rectangle(room_annotated, (490,900), (1550,1050), (255,255,255), -1, cv.LINE_AA)\n",
    "\n",
    "plt.imshow(room_annotated[:,:,::-1])"
   ]
  },
  {
   "cell_type": "code",
   "execution_count": null,
   "metadata": {},
   "outputs": [],
   "source": [
    "cv.putText(room_annotated, \"ADI room with a compass\", (495, 995), cv.FONT_HERSHEY_COMPLEX, 2.3, (0,50,100), 5, cv.LINE_AA)\n",
    "cv.putText(room_annotated, \"ADI room with a compass\", (500, 1000), cv.FONT_HERSHEY_COMPLEX, 2.3, (55,50,155), 5, cv.LINE_AA)\n",
    "\n",
    "plt.imshow(room_annotated[:,:,::-1])"
   ]
  }
 ],
 "metadata": {
  "kernelspec": {
   "display_name": "Python 3",
   "language": "python",
   "name": "python3"
  },
  "language_info": {
   "codemirror_mode": {
    "name": "ipython",
    "version": 3
   },
   "file_extension": ".py",
   "mimetype": "text/x-python",
   "name": "python",
   "nbconvert_exporter": "python",
   "pygments_lexer": "ipython3",
   "version": "3.11.9"
  }
 },
 "nbformat": 4,
 "nbformat_minor": 2
}
