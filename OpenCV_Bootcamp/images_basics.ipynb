{
 "cells": [
  {
   "cell_type": "code",
   "execution_count": null,
   "metadata": {},
   "outputs": [],
   "source": [
    "import cv2 as cv\n",
    "import numpy as np\n",
    "import matplotlib.pyplot as plt\n",
    "%matplotlib inline\n",
    "from IPython.display import Image"
   ]
  },
  {
   "cell_type": "code",
   "execution_count": null,
   "metadata": {},
   "outputs": [],
   "source": [
    "room = cv.imread(\"data/room.png\", cv.IMREAD_COLOR)\n",
    "\n",
    "# print the size  of image\n",
    "print(\"Image size (H, W) is:\", room.shape)\n",
    "\n",
    "# print data-type of image\n",
    "print(\"Data type of image is:\", room.dtype)"
   ]
  },
  {
   "cell_type": "code",
   "execution_count": null,
   "metadata": {},
   "outputs": [],
   "source": [
    "b, g, r = cv.split(room)\n",
    "\n",
    "plt.figure(figsize=[20, 5])\n",
    "\n",
    "plt.subplot(1,4,1)\n",
    "plt.title(\"Red channel\")\n",
    "plt.imshow(r, cmap='gray')\n",
    "plt.subplot(1,4,2)\n",
    "plt.title(\"Green channel\")\n",
    "plt.imshow(g, cmap='gray')\n",
    "plt.subplot(1,4,3)\n",
    "plt.title(\"Blue channel\")\n",
    "plt.imshow(b, cmap='gray')\n",
    "\n",
    "merged = cv.merge((b,g,r))\n",
    "plt.subplot(1,4,4)\n",
    "plt.title(\"Merged output\")\n",
    "plt.imshow(merged[:,:,::-1])"
   ]
  },
  {
   "cell_type": "code",
   "execution_count": null,
   "metadata": {},
   "outputs": [],
   "source": [
    "room_rgb = cv.cvtColor(room, cv.COLOR_BGR2RGB)\n",
    "plt.imshow(room_rgb)"
   ]
  },
  {
   "cell_type": "code",
   "execution_count": null,
   "metadata": {},
   "outputs": [],
   "source": [
    "room_hsv = cv.cvtColor(room, cv.COLOR_BGR2HSV)\n",
    "\n",
    "# Split the image into the B,G,R components\n",
    "h,s,v = cv.split(room_hsv)\n",
    "\n",
    "# Show the channels\n",
    "plt.figure(figsize=[20,5])\n",
    "plt.subplot(141);plt.imshow(h, cmap=\"gray\");plt.title(\"H Channel\")\n",
    "plt.subplot(142);plt.imshow(s, cmap=\"gray\");plt.title(\"S Channel\")\n",
    "plt.subplot(143);plt.imshow(v, cmap=\"gray\");plt.title(\"V Channel\")\n",
    "plt.subplot(144);plt.imshow(room_rgb);   plt.title(\"Original\")"
   ]
  },
  {
   "cell_type": "code",
   "execution_count": null,
   "metadata": {},
   "outputs": [],
   "source": [
    "import time\n",
    "from IPython.display import clear_output\n",
    "\n",
    "num = 0\n",
    "\n",
    "h_new = h+num\n",
    "s_new = s+20\n",
    "v_new = v-60\n",
    "\n",
    "room_hsv = cv.merge((h_new,s_new,v_new))\n",
    "room_rgb = cv.cvtColor(room_hsv, cv.COLOR_HSV2RGB)\n",
    "\n",
    "plt.figure(figsize=[20,5])\n",
    "plt.subplot(142);plt.imshow(s_new, cmap=\"gray\");plt.title(\"S Channel\")\n",
    "plt.subplot(143);plt.imshow(v_new, cmap=\"gray\");plt.title(\"V Channel\")\n",
    "plt.subplot(141);plt.imshow(h_new, cmap=\"gray\");plt.title(\"H Channel\")\n",
    "plt.subplot(144);plt.imshow(room_rgb);   plt.title(\"Merged\")\n",
    "\n",
    "plt.ion()  # Enable interactive mode\n",
    "fig, ax = plt.subplots()\n",
    "im = ax.imshow(room_rgb)\n",
    "plt.title(\"Updated Image\")\n",
    "\n",
    "while True:\n",
    "    h_new = (h + num) % 180\n",
    "    room_hsv = cv.merge((h_new,s,v))\n",
    "    room_rgb = cv.cvtColor(room_hsv, cv.COLOR_HSV2RGB)\n",
    "\n",
    "    room_rgb = cv.resize(room_rgb, None, fx=0.25, fy=0.25)\n",
    "\n",
    "    cv.imwrite(\"data/room_shroom.png\", room_rgb)\n",
    "    display(Image(filename=\"data/room_shroom.png\"))\n",
    "    clear_output(wait=True)\n",
    "\n",
    "    time.sleep(0.1)\n",
    "\n",
    "    num = num+5\n",
    "\n",
    "    if num >= 180:\n",
    "        display(Image(filename=\"data/room_shroom.png\"))\n",
    "        break\n",
    "\n",
    "plt.ioff()  # Disable interactive mode\n",
    "plt.show()  # Show the final image\n",
    "    \n",
    "\n",
    "    "
   ]
  }
 ],
 "metadata": {
  "kernelspec": {
   "display_name": "Python 3",
   "language": "python",
   "name": "python3"
  },
  "language_info": {
   "codemirror_mode": {
    "name": "ipython",
    "version": 3
   },
   "file_extension": ".py",
   "mimetype": "text/x-python",
   "name": "python",
   "nbconvert_exporter": "python",
   "pygments_lexer": "ipython3",
   "version": "3.11.9"
  }
 },
 "nbformat": 4,
 "nbformat_minor": 2
}
