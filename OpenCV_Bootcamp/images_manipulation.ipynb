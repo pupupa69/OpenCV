{
 "cells": [
  {
   "cell_type": "code",
   "execution_count": null,
   "metadata": {},
   "outputs": [],
   "source": [
    "import cv2 as cv\n",
    "import numpy as np\n",
    "import matplotlib.pyplot as plt\n",
    "%matplotlib inline\n",
    "from IPython.display import Image"
   ]
  },
  {
   "cell_type": "code",
   "execution_count": null,
   "metadata": {},
   "outputs": [],
   "source": [
    "donate = cv.imread(\"data/donate.png\",0)\n",
    "\n",
    "#cv.imshow(\"donate\", donate)\n",
    "plt.imshow(donate, cmap='gray')"
   ]
  },
  {
   "cell_type": "code",
   "execution_count": null,
   "metadata": {},
   "outputs": [],
   "source": [
    "room_bgr = cv.imread(\"data/room.png\", cv.IMREAD_COLOR)\n",
    "room_rgb = room_bgr[:,:,::-1]\n",
    "\n",
    "plt.subplot(1,2,1)\n",
    "plt.imshow(room_bgr)\n",
    "plt.subplot(1,2,2)\n",
    "plt.imshow(room_rgb)"
   ]
  },
  {
   "cell_type": "code",
   "execution_count": null,
   "metadata": {},
   "outputs": [],
   "source": [
    "compass = room_rgb[110:610, 280:775]\n",
    "plt.imshow(compass)"
   ]
  },
  {
   "cell_type": "code",
   "execution_count": null,
   "metadata": {},
   "outputs": [],
   "source": [
    "smaller_compass = cv.resize(compass, None, fx=0.5, fy=0.5)\n",
    "plt.imshow(smaller_compass)"
   ]
  },
  {
   "cell_type": "code",
   "execution_count": null,
   "metadata": {},
   "outputs": [],
   "source": [
    "x = 50\n",
    "y = 50\n",
    "dim = (x,y)\n",
    "\n",
    "smaller_compass = cv.resize(compass, dsize=dim, interpolation=cv.INTER_AREA)\n",
    "plt.imshow(smaller_compass)"
   ]
  },
  {
   "cell_type": "code",
   "execution_count": null,
   "metadata": {},
   "outputs": [],
   "source": [
    "square_compass = smaller_compass\n",
    "cv.imwrite(\"data/square_compass_bgr.png\", square_compass)\n",
    "Image(filename=\"data/square_compass_bgr.png\")\n",
    "\n",
    "square_compass = smaller_compass[:,:,::-1]\n",
    "cv.imwrite(\"data/square_compass_rgb.png\", square_compass)\n",
    "Image(filename=\"data/square_compass_rgb.png\")"
   ]
  },
  {
   "cell_type": "code",
   "execution_count": null,
   "metadata": {},
   "outputs": [],
   "source": [
    "compass_flip_horz = cv.flip(compass, 1)\n",
    "compass_flip_vert = cv.flip(compass, 0)\n",
    "compass_flip_both = cv.flip(compass, -1)\n",
    "\n",
    "plt.figure(figsize=[20, 5])\n",
    "\n",
    "plt.subplot(1,4,1)\n",
    "plt.imshow(compass)\n",
    "plt.title(\"Original\")\n",
    "plt.subplot(1,4,2)\n",
    "plt.imshow(compass_flip_horz)\n",
    "plt.title(\"Horizontal flip\")\n",
    "plt.subplot(1,4,3)\n",
    "plt.imshow(compass_flip_vert)\n",
    "plt.title(\"Vertical flip\")\n",
    "plt.subplot(1,4,4)\n",
    "plt.imshow(compass_flip_both)\n",
    "plt.title(\"Both flips\")\n"
   ]
  }
 ],
 "metadata": {
  "kernelspec": {
   "display_name": "Python 3",
   "language": "python",
   "name": "python3"
  },
  "language_info": {
   "codemirror_mode": {
    "name": "ipython",
    "version": 3
   },
   "file_extension": ".py",
   "mimetype": "text/x-python",
   "name": "python",
   "nbconvert_exporter": "python",
   "pygments_lexer": "ipython3",
   "version": "3.11.9"
  }
 },
 "nbformat": 4,
 "nbformat_minor": 2
}
